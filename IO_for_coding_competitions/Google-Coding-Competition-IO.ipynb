{
 "cells": [
  {
   "cell_type": "markdown",
   "metadata": {},
   "source": [
    "#  Google uses standard Input and Output for it's coding competitions. \n",
    "\n",
    "I was very confused with this at the beginning and ended up wasting a lot of time So here's a simple boilerplate code with sample input and output which we can use to save time while coding :)"
   ]
  },
  {
   "cell_type": "markdown",
   "metadata": {},
   "source": [
    "##               TAKING INPUTS\n",
    "-----------------------------------------------------\n",
    " Sample Input below - First line: No. of test cases followed by the test sets \n",
    "\n",
    "```\n",
    " 3\n",
    " 4 100\n",
    " 20 90 40 90\n",
    " 4 50\n",
    " 30 30 10 10\n",
    " 3 300\n",
    " 999 999 999 ```"
   ]
  },
  {
   "cell_type": "code",
   "execution_count": null,
   "metadata": {},
   "outputs": [],
   "source": [
    "test_cases = int(input())\n",
    "for i in range(1, t+1):\n",
    "    integer_variable1, integer_variable2 = [int(x) for x in input().split()]\n",
    "    list_of_integers = [int(x) for x in input().split()]\n",
    "    # Logic goes here\n",
    "    # Usually output (print) goes here, but it depends on your implementation"
   ]
  },
  {
   "cell_type": "markdown",
   "metadata": {},
   "source": [
    "##               PRINTING OUTPUTS\n",
    "-----------------------------------------------------\n",
    " Sample Output\n",
    "```\n",
    " Case #1: 2\n",
    " Case #2: 3\n",
    " Case #3: 0\n",
    "```"
   ]
  },
  {
   "cell_type": "code",
   "execution_count": null,
   "metadata": {},
   "outputs": [],
   "source": [
    "print(\"Case #{}: {}\".format(i, result)) # i - index of test set, result - solution for a given test set"
   ]
  },
  {
   "cell_type": "code",
   "execution_count": null,
   "metadata": {},
   "outputs": [],
   "source": []
  }
 ],
 "metadata": {
  "kernelspec": {
   "display_name": "Python 3",
   "language": "python",
   "name": "python3"
  },
  "language_info": {
   "codemirror_mode": {
    "name": "ipython",
    "version": 3
   },
   "file_extension": ".py",
   "mimetype": "text/x-python",
   "name": "python",
   "nbconvert_exporter": "python",
   "pygments_lexer": "ipython3",
   "version": "3.8.3"
  }
 },
 "nbformat": 4,
 "nbformat_minor": 4
}

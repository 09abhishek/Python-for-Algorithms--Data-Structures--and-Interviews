{
 "cells": [
  {
   "cell_type": "markdown",
   "metadata": {},
   "source": [
    "# On-Site Question 1 - SOLUTION\n",
    "___\n",
    "\n",
    "## Question\n",
    "** Given a function which produces a random integer in the range of 1 to 5, write a function which produces a random integer from 1 to 7 **\n",
    "\n",
    "## Requirements\n",
    "\n",
    "** You MUST do this on pen and paper or on a whiteboard. No actual coding is allowed! **"
   ]
  },
  {
   "cell_type": "markdown",
   "metadata": {},
   "source": [
    "___"
   ]
  },
  {
   "cell_type": "markdown",
   "metadata": {},
   "source": [
    "# SOLUTION\n",
    "\n",
    "This is a new problem we haven't seen before! Many times this question is asked in the form of dice (Given a 5 sided dice, simulate a 7 sided dice).\n",
    "\n",
    "There are a few ways to do this, but the most straighforward way would be to try to create an even mapping "
   ]
  },
  {
   "cell_type": "code",
   "execution_count": null,
   "metadata": {
    "collapsed": true
   },
   "outputs": [],
   "source": [
    "from random import randint\n",
    " \n",
    "def dice5():\n",
    "    return randint(1, 5)\n",
    " \n",
    "def dice7():\n",
    "    r = dice5() + dice5() * 5 - 6\n",
    "    return (r % 7) + 1 if r < 21 else dice7()"
   ]
  }
 ],
 "metadata": {
  "kernelspec": {
   "display_name": "Python 2",
   "language": "python",
   "name": "python2"
  },
  "language_info": {
   "codemirror_mode": {
    "name": "ipython",
    "version": 2
   },
   "file_extension": ".py",
   "mimetype": "text/x-python",
   "name": "python",
   "nbconvert_exporter": "python",
   "pygments_lexer": "ipython2",
   "version": "2.7.11"
  }
 },
 "nbformat": 4,
 "nbformat_minor": 0
}

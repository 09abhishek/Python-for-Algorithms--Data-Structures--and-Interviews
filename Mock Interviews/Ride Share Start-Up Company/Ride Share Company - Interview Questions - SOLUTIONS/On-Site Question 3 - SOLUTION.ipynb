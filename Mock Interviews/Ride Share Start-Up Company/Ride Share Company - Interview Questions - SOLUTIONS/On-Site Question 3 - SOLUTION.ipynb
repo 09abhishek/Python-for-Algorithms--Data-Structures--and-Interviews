{
 "cells": [
  {
   "cell_type": "markdown",
   "metadata": {},
   "source": [
    "# On-Site Question 3 - SOLUTION\n",
    "\n",
    "## Problem\n",
    "\n",
    "** Given a long string sentence, create a dictionary that counts the occurences of each word. Capitalized words should be the same as lwoercase, count wise. For example: **"
   ]
  },
  {
   "cell_type": "code",
   "execution_count": 1,
   "metadata": {
    "collapsed": false
   },
   "outputs": [
    {
     "data": {
      "text/plain": [
       "{'about': 2, 'and': 1, 'that': 1, 'this': 1}"
      ]
     },
     "execution_count": 1,
     "metadata": {},
     "output_type": "execute_result"
    }
   ],
   "source": [
    "s = 'About this, and about that'\n",
    "def word_count(s):\n",
    "    # Fill me in\n",
    "    pass\n",
    "\n",
    "# Sample output\n",
    "word_count(s)"
   ]
  },
  {
   "cell_type": "markdown",
   "metadata": {},
   "source": [
    "## Requirements\n",
    "\n",
    "** Use paper/pencil, do not code this in an IDE (writing it down makes the problem harder)**\n",
    "** Do not use built-in Python libraries to do this, but do mention them if you know about them **"
   ]
  }
 ],
 "metadata": {
  "kernelspec": {
   "display_name": "Python 2",
   "language": "python",
   "name": "python2"
  },
  "language_info": {
   "codemirror_mode": {
    "name": "ipython",
    "version": 2
   },
   "file_extension": ".py",
   "mimetype": "text/x-python",
   "name": "python",
   "nbconvert_exporter": "python",
   "pygments_lexer": "ipython2",
   "version": "2.7.11"
  }
 },
 "nbformat": 4,
 "nbformat_minor": 0
}

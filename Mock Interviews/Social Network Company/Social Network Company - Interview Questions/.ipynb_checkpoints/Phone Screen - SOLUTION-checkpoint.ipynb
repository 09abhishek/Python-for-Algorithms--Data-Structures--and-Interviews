{
 "cells": [
  {
   "cell_type": "markdown",
   "metadata": {},
   "source": [
    "# Phone Screen - SOLUTION\n",
    "\n",
    "## Problem \n",
    "\n",
    "** You've created a web crawler that scans people's social network accounts. You noticed that the crawler was visiting some people's pages repeatedly, so you made a diciontary called *reviewed* which keeps track and stores the accounts you've already reviewed and visited. Unfortunately this dictionary is growing too large and the system keeps crashing. How can you reduce the amount of space taken up by *reviewed*? **\n",
    "\n",
    "## Requirements\n",
    "\n",
    "** Explain your idea/concept using a pencil/paper or whiteboard. **"
   ]
  },
  {
   "cell_type": "code",
   "execution_count": null,
   "metadata": {
    "collapsed": true
   },
   "outputs": [],
   "source": []
  }
 ],
 "metadata": {
  "kernelspec": {
   "display_name": "Python 2",
   "language": "python",
   "name": "python2"
  },
  "language_info": {
   "codemirror_mode": {
    "name": "ipython",
    "version": 2
   },
   "file_extension": ".py",
   "mimetype": "text/x-python",
   "name": "python",
   "nbconvert_exporter": "python",
   "pygments_lexer": "ipython2",
   "version": "2.7.11"
  }
 },
 "nbformat": 4,
 "nbformat_minor": 0
}
